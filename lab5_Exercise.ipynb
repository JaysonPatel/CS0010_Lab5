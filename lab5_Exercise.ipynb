{
 "cells": [
  {
   "cell_type": "code",
   "execution_count": 5,
   "metadata": {},
   "outputs": [
    {
     "name": "stdin",
     "output_type": "stream",
     "text": [
      "What is your name? Sam\n",
      "What is your grade in this class 95\n"
     ]
    },
    {
     "name": "stdout",
     "output_type": "stream",
     "text": [
      "Sam's grade is: A\n"
     ]
    }
   ],
   "source": [
    "name = input(\"What is your name?\")\n",
    "grade = input(\"What is your grade in this class\")\n",
    "\n",
    "try:\n",
    "    grade = int(grade)\n",
    "    if grade > 100 or grade < 0:\n",
    "        print(rangeErrorStr)\n",
    "    elif grade >= 93: \n",
    "        print(name + \"'s grade is: A\")\n",
    "    elif grade >= 85:\n",
    "        print(name + \"'s grade is: B\")\n",
    "    elif grade >= 74:\n",
    "        print(name + \"'s grade is: C\")\n",
    "    elif grade >= 63:\n",
    "        print(name + \"'s grade is: D\")\n",
    "    else: \n",
    "        print(name + \"'s grade is: F\")\n",
    "except:\n",
    "    print(\"You entered an invalid number\")\n",
    "\n"
   ]
  },
  {
   "cell_type": "code",
   "execution_count": null,
   "metadata": {},
   "outputs": [],
   "source": []
  }
 ],
 "metadata": {
  "kernelspec": {
   "display_name": "Python 3",
   "language": "python",
   "name": "python3"
  },
  "language_info": {
   "codemirror_mode": {
    "name": "ipython",
    "version": 3
   },
   "file_extension": ".py",
   "mimetype": "text/x-python",
   "name": "python",
   "nbconvert_exporter": "python",
   "pygments_lexer": "ipython3",
   "version": "3.8.3"
  }
 },
 "nbformat": 4,
 "nbformat_minor": 4
}
